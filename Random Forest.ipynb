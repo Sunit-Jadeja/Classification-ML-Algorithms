{
 "cells": [
  {
   "cell_type": "code",
   "execution_count": 1,
   "id": "08aafdca",
   "metadata": {},
   "outputs": [
    {
     "data": {
      "text/plain": [
       "Index([' Number of times pregnant', ' Plasma glucose concentration',\n",
       "       ' Diastolic blood pressure', ' Triceps skin fold thickness',\n",
       "       ' 2-Hour serum insulin', ' Body mass index',\n",
       "       ' Diabetes pedigree function', ' Age (years)', ' Class variable'],\n",
       "      dtype='object')"
      ]
     },
     "execution_count": 1,
     "metadata": {},
     "output_type": "execute_result"
    }
   ],
   "source": [
    "import pandas as pd\n",
    "import numpy as np\n",
    "# Reading the Diabetes Data #################\n",
    "Diabetes = pd.read_csv(\"/Users/sunitjadeja/Desktop/DataScience/Machine Learning/Decision Tree Random Forest/Diabetes_RF.csv\")\n",
    "Diabetes.head()\n",
    "Diabetes.columns"
   ]
  },
  {
   "cell_type": "code",
   "execution_count": 11,
   "id": "59fea547",
   "metadata": {},
   "outputs": [],
   "source": [
    "colnames = list(Diabetes.columns)\n",
    "predictors = colnames[:8]\n",
    "target = colnames[8]\n",
    "\n",
    "X = Diabetes[predictors]\n",
    "Y = Diabetes[target]"
   ]
  },
  {
   "cell_type": "code",
   "execution_count": 12,
   "id": "a4fb32bc",
   "metadata": {},
   "outputs": [
    {
     "data": {
      "text/plain": [
       "(768, 9)"
      ]
     },
     "execution_count": 12,
     "metadata": {},
     "output_type": "execute_result"
    }
   ],
   "source": [
    "from sklearn.ensemble import RandomForestClassifier\n",
    "rf = RandomForestClassifier(n_jobs=3,oob_score=True,n_estimators=15,criterion=\"entropy\")\n",
    "# n_estimators -> Number of trees ( you can increase for better accuracy)\n",
    "# n_jobs -> Parallelization of the computing and signifies the number of jobs \n",
    "# running parallel for both fit and predict\n",
    "#oob_score = True means model has done out of box sampling to make predictions\n",
    "\n",
    "np.shape(Diabetes) # 768,9 => Shape "
   ]
  },
  {
   "cell_type": "code",
   "execution_count": 15,
   "id": "a85e17e1",
   "metadata": {},
   "outputs": [
    {
     "data": {
      "text/plain": [
       "0.71875"
      ]
     },
     "execution_count": 15,
     "metadata": {},
     "output_type": "execute_result"
    }
   ],
   "source": [
    "### Attributes that comes along with RandomForest function\n",
    "rf.fit(X,Y) # Fitting RandomForestClassifier model from sklearn.ensemble \n",
    "rf.estimators_ # \n",
    "rf.classes_ # class labels (output)\n",
    "rf.n_classes_ # Number of levels in class labels \n",
    "rf.n_features_  # Number of input features in model 8 here.\n",
    "\n",
    "rf.n_outputs_ # Number of outputs when fit performed\n",
    "\n",
    "rf.oob_score_  # 0.71875 ###oob is test & train split \n",
    "#rf.predict(X)\n",
    "##############################"
   ]
  },
  {
   "cell_type": "code",
   "execution_count": 12,
   "id": "51bf0d8a",
   "metadata": {},
   "outputs": [
    {
     "data": {
      "text/plain": [
       "0      YES\n",
       "1       NO\n",
       "2      YES\n",
       "3       NO\n",
       "4      YES\n",
       "      ... \n",
       "763     NO\n",
       "764     NO\n",
       "765     NO\n",
       "766    YES\n",
       "767     NO\n",
       "Name:  Class variable, Length: 768, dtype: object"
      ]
     },
     "execution_count": 12,
     "metadata": {},
     "output_type": "execute_result"
    }
   ],
   "source": [
    "Diabetes['rf_pred'] = rf.predict(X)\n",
    "cols = ['rf_pred',' Class variable']\n",
    "Diabetes[cols].head()\n",
    "Diabetes[\" Class variable\"]"
   ]
  },
  {
   "cell_type": "code",
   "execution_count": 13,
   "id": "5fd59d24",
   "metadata": {},
   "outputs": [
    {
     "data": {
      "text/plain": [
       "array([[498,   2],\n",
       "       [  3, 265]])"
      ]
     },
     "execution_count": 13,
     "metadata": {},
     "output_type": "execute_result"
    }
   ],
   "source": [
    "from sklearn.metrics import confusion_matrix\n",
    "confusion_matrix(Diabetes[' Class variable'],Diabetes['rf_pred'])"
   ]
  },
  {
   "cell_type": "code",
   "execution_count": 14,
   "id": "d2ffa86b",
   "metadata": {},
   "outputs": [
    {
     "data": {
      "text/html": [
       "<div>\n",
       "<style scoped>\n",
       "    .dataframe tbody tr th:only-of-type {\n",
       "        vertical-align: middle;\n",
       "    }\n",
       "\n",
       "    .dataframe tbody tr th {\n",
       "        vertical-align: top;\n",
       "    }\n",
       "\n",
       "    .dataframe thead th {\n",
       "        text-align: right;\n",
       "    }\n",
       "</style>\n",
       "<table border=\"1\" class=\"dataframe\">\n",
       "  <thead>\n",
       "    <tr style=\"text-align: right;\">\n",
       "      <th>rf_pred</th>\n",
       "      <th>NO</th>\n",
       "      <th>YES</th>\n",
       "    </tr>\n",
       "    <tr>\n",
       "      <th>Class variable</th>\n",
       "      <th></th>\n",
       "      <th></th>\n",
       "    </tr>\n",
       "  </thead>\n",
       "  <tbody>\n",
       "    <tr>\n",
       "      <th>NO</th>\n",
       "      <td>498</td>\n",
       "      <td>2</td>\n",
       "    </tr>\n",
       "    <tr>\n",
       "      <th>YES</th>\n",
       "      <td>3</td>\n",
       "      <td>265</td>\n",
       "    </tr>\n",
       "  </tbody>\n",
       "</table>\n",
       "</div>"
      ],
      "text/plain": [
       "rf_pred           NO  YES\n",
       " Class variable          \n",
       "NO               498    2\n",
       "YES                3  265"
      ]
     },
     "execution_count": 14,
     "metadata": {},
     "output_type": "execute_result"
    }
   ],
   "source": [
    "pd.crosstab(Diabetes[' Class variable'],Diabetes['rf_pred'])"
   ]
  },
  {
   "cell_type": "code",
   "execution_count": 15,
   "id": "368ef95f",
   "metadata": {},
   "outputs": [
    {
     "name": "stdout",
     "output_type": "stream",
     "text": [
      "Accuracy 99.34895833333334\n"
     ]
    },
    {
     "data": {
      "text/plain": [
       "0      YES\n",
       "1       NO\n",
       "2      YES\n",
       "3       NO\n",
       "4      YES\n",
       "      ... \n",
       "763     NO\n",
       "764     NO\n",
       "765     NO\n",
       "766    YES\n",
       "767     NO\n",
       "Name: rf_pred, Length: 768, dtype: object"
      ]
     },
     "execution_count": 15,
     "metadata": {},
     "output_type": "execute_result"
    }
   ],
   "source": [
    "print(\"Accuracy\",(498+265)/(498+265+2+3)*100)\n",
    "\n",
    "# Accuracy is 99.3489\n",
    "Diabetes[\"rf_pred\"]"
   ]
  },
  {
   "cell_type": "code",
   "execution_count": null,
   "id": "21156a2c",
   "metadata": {},
   "outputs": [],
   "source": []
  }
 ],
 "metadata": {
  "kernelspec": {
   "display_name": "Python 3",
   "language": "python",
   "name": "python3"
  },
  "language_info": {
   "codemirror_mode": {
    "name": "ipython",
    "version": 3
   },
   "file_extension": ".py",
   "mimetype": "text/x-python",
   "name": "python",
   "nbconvert_exporter": "python",
   "pygments_lexer": "ipython3",
   "version": "3.8.3"
  }
 },
 "nbformat": 4,
 "nbformat_minor": 5
}
