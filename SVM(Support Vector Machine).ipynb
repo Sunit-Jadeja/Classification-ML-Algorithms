{
 "cells": [
  {
   "cell_type": "code",
   "execution_count": 2,
   "metadata": {},
   "outputs": [],
   "source": [
    "import pandas as pd\n",
    "import numpy as np\n",
    "import matplotlib.pyplot as plt\n",
    "import seaborn as sns\n",
    "from sklearn.model_selection import train_test_split\n",
    "from sklearn.metrics import classification_report\n",
    "\n",
    "from sklearn.metrics import confusion_matrix\n",
    "from sklearn import svm\n",
    "%matplotlib inline"
   ]
  },
  {
   "cell_type": "code",
   "execution_count": 23,
   "metadata": {},
   "outputs": [
    {
     "name": "stdout",
     "output_type": "stream",
     "text": [
      "   Id  SepalLengthCm  SepalWidthCm  PetalLengthCm  PetalWidthCm      Species\n",
      "0   1            5.1           3.5            1.4           0.2  Iris-setosa\n",
      "1   2            4.9           3.0            1.4           0.2  Iris-setosa\n"
     ]
    }
   ],
   "source": [
    "df=pd.read_csv(\"/Users/sunitjadeja/Desktop/Python/Iris.csv\")\n",
    "print (df.head(2))\n",
    "# print (df.describe())\n",
    "# print (df.dtypes)\n",
    "# print (df.info)\n",
    "# print (df.columns)"
   ]
  },
  {
   "cell_type": "code",
   "execution_count": 28,
   "metadata": {},
   "outputs": [
    {
     "data": {
      "text/plain": [
       "<matplotlib.axes._subplots.AxesSubplot at 0x7fe03c55ad90>"
      ]
     },
     "execution_count": 28,
     "metadata": {},
     "output_type": "execute_result"
    },
    {
     "data": {
      "image/png": "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\n",
      "text/plain": [
       "<Figure size 432x288 with 1 Axes>"
      ]
     },
     "metadata": {
      "needs_background": "light"
     },
     "output_type": "display_data"
    }
   ],
   "source": [
    "# df1=df.drop(columns=\"Id\")\n",
    "# print(df1)\n",
    "sns.boxplot(df['SepalLengthCm'],df['Species'])\n",
    "sns.boxplot(df['SepalWidthCm'],df['Species'])"
   ]
  },
  {
   "cell_type": "code",
   "execution_count": 32,
   "metadata": {},
   "outputs": [
    {
     "data": {
      "text/plain": [
       "<matplotlib.axes._subplots.AxesSubplot at 0x7fe03c813370>"
      ]
     },
     "execution_count": 32,
     "metadata": {},
     "output_type": "execute_result"
    },
    {
     "data": {
      "image/png": "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\n",
      "text/plain": [
       "<Figure size 432x288 with 1 Axes>"
      ]
     },
     "metadata": {
      "needs_background": "light"
     },
     "output_type": "display_data"
    }
   ],
   "source": [
    "###bar plot shows that all the classes are equally distrd in databas our model will likely have less bias.\n",
    "df['Species'].value_counts().plot.bar()\n",
    "df['Species'].value_counts()()\n",
   ]
  },
  {
   "cell_type": "code",
   "execution_count": 42,
   "metadata": {},
   "outputs": [],
   "source": [
    "y = df['Species']\n",
    "X = df.drop(columns=['Species'])\n",
    "X_train, X_test, y_train, y_test = train_test_split(X, y, test_size=0.33, random_state=42)\n",
    "model_svm = svm.SVC(kernel='linear')\n"
   ]
  },
  {
   "cell_type": "code",
   "execution_count": 43,
   "metadata": {},
   "outputs": [
    {
     "data": {
      "text/plain": [
       "SVC(kernel='linear')"
      ]
     },
     "execution_count": 43,
     "metadata": {},
     "output_type": "execute_result"
    }
   ],
   "source": [
    "model_svm.fit(X_train, y_train)"
   ]
  },
  {
   "cell_type": "code",
   "execution_count": 38,
   "metadata": {},
   "outputs": [
    {
     "name": "stdout",
     "output_type": "stream",
     "text": [
      "                 precision    recall  f1-score   support\n",
      "\n",
      "    Iris-setosa       1.00      1.00      1.00        19\n",
      "Iris-versicolor       1.00      1.00      1.00        15\n",
      " Iris-virginica       1.00      1.00      1.00        16\n",
      "\n",
      "       accuracy                           1.00        50\n",
      "      macro avg       1.00      1.00      1.00        50\n",
      "   weighted avg       1.00      1.00      1.00        50\n",
      "\n"
     ]
    }
   ],
   "source": [
    "y_predicted = model_svm.predict(X_test)\n",
    "print(classification_report(y_test,y_predicted))"
   ]
  },
  {
   "cell_type": "code",
   "execution_count": 44,
   "metadata": {},
   "outputs": [
    {
     "name": "stdout",
     "output_type": "stream",
     "text": [
      "[[19  0  0]\n",
      " [ 0 15  0]\n",
      " [ 0  0 16]]\n"
     ]
    }
   ],
   "source": [
    "print(confusion_matrix(y_test, y_predicted))"
   ]
  }
 ],
 "metadata": {
  "kernelspec": {
   "display_name": "Python 3",
   "language": "python",
   "name": "python3"
  },
  "language_info": {
   "codemirror_mode": {
    "name": "ipython",
    "version": 3
   },
   "file_extension": ".py",
   "mimetype": "text/x-python",
   "name": "python",
   "nbconvert_exporter": "python",
   "pygments_lexer": "ipython3",
   "version": "3.8.3"
  }
 },
 "nbformat": 4,
 "nbformat_minor": 4
}
